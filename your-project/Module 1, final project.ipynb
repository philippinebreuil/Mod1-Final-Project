{
 "cells": [
  {
   "cell_type": "code",
   "execution_count": 9,
   "metadata": {},
   "outputs": [],
   "source": [
    "# Comment faire une boucle pour avoir les données sur chacune de mes villes ? \n",
    "# où concerver les données ? "
   ]
  },
  {
   "cell_type": "markdown",
   "metadata": {},
   "source": [
    "# Prévisions météorologiques à 16 jours de 77 stations balnéaires Françaises "
   ]
  },
  {
   "cell_type": "markdown",
   "metadata": {},
   "source": [
    "Étape 1, scraping de la liste des stations balnéaires Françaises"
   ]
  },
  {
   "cell_type": "code",
   "execution_count": 1,
   "metadata": {},
   "outputs": [],
   "source": [
    "# Import des librairies \n",
    "import requests\n",
    "from bs4 import BeautifulSoup\n",
    "import pandas as pd\n",
    "from pandas import json_normalize"
   ]
  },
  {
   "cell_type": "code",
   "execution_count": 2,
   "metadata": {},
   "outputs": [],
   "source": [
    "# Scapping des noms de stations balnéaires \n",
    "website_urls = ['https://www.france-voyage.com/tourisme/stationsbalneaires-panorama_1.htm','https://www.france-voyage.com/tourisme/stationsbalneaires-panorama_2.htm','https://www.france-voyage.com/tourisme/stationsbalneaires-panorama_3.htm','https://www.france-voyage.com/tourisme/stationsbalneaires-panorama_4.htm']\n",
    "cite_balneaires = []\n",
    "for urls in website_urls:\n",
    "    html = requests.get(urls).content\n",
    "    soup = BeautifulSoup(html, \"html\")\n",
    "    cite_table = soup.find_all('div',{'class':'title nolabels'})\n",
    "    noms = [nom_ville.text.strip() for nom_ville in cite_table]\n",
    "    cite_balneaires.append(noms)\n",
    "cite_balneaires = [s for page in cite_balneaires for s in page]"
   ]
  },
  {
   "cell_type": "code",
   "execution_count": 3,
   "metadata": {},
   "outputs": [],
   "source": [
    "# Scrapping des noms des départements\n",
    "departements = []\n",
    "for urls in website_urls:\n",
    "    html = requests.get(urls).content\n",
    "    soup = BeautifulSoup(html, \"html\")\n",
    "    departements_table = soup.find_all('div',{'class':'depinfo'})\n",
    "    noms_dep_1 = [dep.text.strip() for dep in departements_table]\n",
    "    noms_dep = [dep[:-11] for dep in noms_dep_1]\n",
    "    departements.append(noms_dep)\n",
    "\n",
    "departements = [d for pages in departements for d in pages]"
   ]
  },
  {
   "cell_type": "code",
   "execution_count": 4,
   "metadata": {},
   "outputs": [],
   "source": [
    "# Créer un dictionnaire avec ville / dept\n",
    "ville_departement = dict(zip(cite_balneaires ,departements))"
   ]
  },
  {
   "cell_type": "code",
   "execution_count": 5,
   "metadata": {},
   "outputs": [],
   "source": [
    "# Transformer en liste d'éléments uniques \n",
    "ville_dept_items = ville_departement.items()\n",
    "ville_dept_list = list(ville_dept_items)\n",
    "df_ville_dept = pd.DataFrame(ville_dept_list, columns=['city','departements'])\n",
    "stations_balneaire = (list(df_ville_dept.city.unique()))"
   ]
  },
  {
   "cell_type": "code",
   "execution_count": 6,
   "metadata": {},
   "outputs": [
    {
     "data": {
      "text/html": [
       "<div>\n",
       "<style scoped>\n",
       "    .dataframe tbody tr th:only-of-type {\n",
       "        vertical-align: middle;\n",
       "    }\n",
       "\n",
       "    .dataframe tbody tr th {\n",
       "        vertical-align: top;\n",
       "    }\n",
       "\n",
       "    .dataframe thead th {\n",
       "        text-align: right;\n",
       "    }\n",
       "</style>\n",
       "<table border=\"1\" class=\"dataframe\">\n",
       "  <thead>\n",
       "    <tr style=\"text-align: right;\">\n",
       "      <th></th>\n",
       "      <th>city</th>\n",
       "      <th>departements</th>\n",
       "    </tr>\n",
       "  </thead>\n",
       "  <tbody>\n",
       "    <tr>\n",
       "      <th>0</th>\n",
       "      <td>Ajaccio</td>\n",
       "      <td>Corse-du-Sud</td>\n",
       "    </tr>\n",
       "    <tr>\n",
       "      <th>1</th>\n",
       "      <td>Andernos-les-Bains</td>\n",
       "      <td>Gironde</td>\n",
       "    </tr>\n",
       "    <tr>\n",
       "      <th>2</th>\n",
       "      <td>Anglet</td>\n",
       "      <td>Pyrénées-Atlantiques</td>\n",
       "    </tr>\n",
       "    <tr>\n",
       "      <th>3</th>\n",
       "      <td>Arcachon</td>\n",
       "      <td>Gironde</td>\n",
       "    </tr>\n",
       "    <tr>\n",
       "      <th>4</th>\n",
       "      <td>Argelès-sur-Mer</td>\n",
       "      <td>Pyrénées-Orientales</td>\n",
       "    </tr>\n",
       "    <tr>\n",
       "      <th>...</th>\n",
       "      <td>...</td>\n",
       "      <td>...</td>\n",
       "    </tr>\n",
       "    <tr>\n",
       "      <th>72</th>\n",
       "      <td>Saint-Valery-sur-Somme</td>\n",
       "      <td>Somme</td>\n",
       "    </tr>\n",
       "    <tr>\n",
       "      <th>73</th>\n",
       "      <td>Sainte-Anne</td>\n",
       "      <td>Martinique</td>\n",
       "    </tr>\n",
       "    <tr>\n",
       "      <th>74</th>\n",
       "      <td>Soulac-sur-Mer</td>\n",
       "      <td>Gironde</td>\n",
       "    </tr>\n",
       "    <tr>\n",
       "      <th>75</th>\n",
       "      <td>Vieux-Boucau Port d'Albret</td>\n",
       "      <td>Landes</td>\n",
       "    </tr>\n",
       "    <tr>\n",
       "      <th>76</th>\n",
       "      <td>Wimereux</td>\n",
       "      <td>Pas-de-Calais</td>\n",
       "    </tr>\n",
       "  </tbody>\n",
       "</table>\n",
       "<p>77 rows × 2 columns</p>\n",
       "</div>"
      ],
      "text/plain": [
       "                          city          departements\n",
       "0                      Ajaccio          Corse-du-Sud\n",
       "1           Andernos-les-Bains               Gironde\n",
       "2                       Anglet  Pyrénées-Atlantiques\n",
       "3                     Arcachon               Gironde\n",
       "4              Argelès-sur-Mer   Pyrénées-Orientales\n",
       "..                         ...                   ...\n",
       "72      Saint-Valery-sur-Somme                 Somme\n",
       "73                 Sainte-Anne            Martinique\n",
       "74              Soulac-sur-Mer               Gironde\n",
       "75  Vieux-Boucau Port d'Albret                Landes\n",
       "76                    Wimereux         Pas-de-Calais\n",
       "\n",
       "[77 rows x 2 columns]"
      ]
     },
     "execution_count": 6,
     "metadata": {},
     "output_type": "execute_result"
    }
   ],
   "source": [
    "df_ville_dept"
   ]
  },
  {
   "cell_type": "code",
   "execution_count": 20,
   "metadata": {},
   "outputs": [],
   "source": [
    "# Noms des sations en majuscule (pour requête API)\n",
    "stations_balneaire = [x.upper() for x in stations_balneaire]"
   ]
  },
  {
   "cell_type": "markdown",
   "metadata": {},
   "source": [
    "Accéder à l'API Weatherbit"
   ]
  },
  {
   "cell_type": "code",
   "execution_count": 30,
   "metadata": {},
   "outputs": [
    {
     "data": {
      "text/plain": [
       "'8f948672fb704039a9f6e6c0a453e761'"
      ]
     },
     "execution_count": 30,
     "metadata": {},
     "output_type": "execute_result"
    }
   ],
   "source": [
    "# Import API key\n",
    "import_key = open('./ignore.txt','r').read()\n",
    "import_key"
   ]
  },
  {
   "cell_type": "code",
   "execution_count": null,
   "metadata": {},
   "outputs": [],
   "source": []
  },
  {
   "cell_type": "code",
   "execution_count": 31,
   "metadata": {},
   "outputs": [],
   "source": [
    "# accès à l'API WEATHER FORECAST \n",
    "# https://api.weatherbit.io/v2.0/forecast/daily?city=Raleigh,NC&key=API_KEY\n",
    "api_access = requests.get(f'https://api.weatherbit.io/v2.0/forecast/daily?city=AJACCIO&country=FR&key={import_key}')"
   ]
  },
  {
   "cell_type": "code",
   "execution_count": 23,
   "metadata": {},
   "outputs": [],
   "source": [
    "cols = ['sunset_ts',\n",
    "'wind_gust_spd',\n",
    "'wind_spd',\n",
    "'wind_dir',\n",
    "'clouds',\n",
    "'sunrise_ts',\n",
    "'pop',\n",
    "'uv',\n",
    "'precip',\n",
    "'low_temp',\n",
    "'min_temp',\n",
    "'max_temp',\n",
    "'high_temp',\n",
    "'temp',\n",
    "'datetime',\n",
    "'weather.description']"
   ]
  },
  {
   "cell_type": "code",
   "execution_count": 32,
   "metadata": {},
   "outputs": [
    {
     "data": {
      "text/plain": [
       "429"
      ]
     },
     "execution_count": 32,
     "metadata": {},
     "output_type": "execute_result"
    }
   ],
   "source": [
    "api_access.status_code"
   ]
  },
  {
   "cell_type": "code",
   "execution_count": 26,
   "metadata": {},
   "outputs": [
    {
     "ename": "KeyError",
     "evalue": "'lon'",
     "output_type": "error",
     "traceback": [
      "\u001b[0;31m---------------------------------------------------------------------------\u001b[0m",
      "\u001b[0;31mKeyError\u001b[0m                                  Traceback (most recent call last)",
      "\u001b[0;32m<ipython-input-26-563767dab699>\u001b[0m in \u001b[0;36m<module>\u001b[0;34m\u001b[0m\n\u001b[0;32m----> 1\u001b[0;31m \u001b[0mlongitude\u001b[0m \u001b[0;34m=\u001b[0m \u001b[0mapi_access\u001b[0m\u001b[0;34m.\u001b[0m\u001b[0mjson\u001b[0m\u001b[0;34m(\u001b[0m\u001b[0;34m)\u001b[0m\u001b[0;34m[\u001b[0m\u001b[0;34m'lon'\u001b[0m\u001b[0;34m]\u001b[0m\u001b[0;34m\u001b[0m\u001b[0;34m\u001b[0m\u001b[0m\n\u001b[0m\u001b[1;32m      2\u001b[0m \u001b[0mlatitude\u001b[0m \u001b[0;34m=\u001b[0m \u001b[0mapi_access\u001b[0m\u001b[0;34m.\u001b[0m\u001b[0mjson\u001b[0m\u001b[0;34m(\u001b[0m\u001b[0;34m)\u001b[0m\u001b[0;34m[\u001b[0m\u001b[0;34m'lat'\u001b[0m\u001b[0;34m]\u001b[0m\u001b[0;34m\u001b[0m\u001b[0;34m\u001b[0m\u001b[0m\n\u001b[1;32m      3\u001b[0m \u001b[0mweather_data\u001b[0m \u001b[0;34m=\u001b[0m \u001b[0mjson_normalize\u001b[0m\u001b[0;34m(\u001b[0m\u001b[0mapi_access\u001b[0m\u001b[0;34m.\u001b[0m\u001b[0mjson\u001b[0m\u001b[0;34m(\u001b[0m\u001b[0;34m)\u001b[0m\u001b[0;34m[\u001b[0m\u001b[0;34m'data'\u001b[0m\u001b[0;34m]\u001b[0m\u001b[0;34m)\u001b[0m\u001b[0;34m\u001b[0m\u001b[0;34m\u001b[0m\u001b[0m\n\u001b[1;32m      4\u001b[0m \u001b[0mweather_table\u001b[0m \u001b[0;34m=\u001b[0m \u001b[0mpd\u001b[0m\u001b[0;34m.\u001b[0m\u001b[0mDataFrame\u001b[0m\u001b[0;34m(\u001b[0m\u001b[0mweather_data\u001b[0m\u001b[0;34m)\u001b[0m\u001b[0;34m[\u001b[0m\u001b[0mcols\u001b[0m\u001b[0;34m]\u001b[0m\u001b[0;34m\u001b[0m\u001b[0;34m\u001b[0m\u001b[0m\n\u001b[1;32m      5\u001b[0m \u001b[0;31m# Faire après : .set_index('datetime')\u001b[0m\u001b[0;34m\u001b[0m\u001b[0;34m\u001b[0m\u001b[0;34m\u001b[0m\u001b[0m\n",
      "\u001b[0;31mKeyError\u001b[0m: 'lon'"
     ]
    }
   ],
   "source": [
    "longitude = api_access.json()['lon']\n",
    "latitude = api_access.json()['lat']\n",
    "weather_data = json_normalize(api_access.json()['data'])\n",
    "weather_table = pd.DataFrame(weather_data)[cols]\n",
    "# Faire après : .set_index('datetime')"
   ]
  },
  {
   "cell_type": "code",
   "execution_count": null,
   "metadata": {},
   "outputs": [],
   "source": [
    "# remplacer le nom de la ville par station \n",
    "weather_table['city'] = 'Ajaccio'\n",
    "weather_table['long'] = longitude\n",
    "weather_table['lat'] = latitude\n",
    "weather_table"
   ]
  },
  {
   "cell_type": "code",
   "execution_count": 12,
   "metadata": {},
   "outputs": [
    {
     "data": {
      "text/plain": [
       "['Ajaccio',\n",
       " 'Andernos-les-Bains',\n",
       " 'Anglet',\n",
       " 'Arcachon',\n",
       " 'Argelès-sur-Mer',\n",
       " 'Banyuls-sur-Mer',\n",
       " 'Barneville-Carteret',\n",
       " 'Biarritz',\n",
       " 'Bidart',\n",
       " 'Biscarrosse-Plage',\n",
       " 'Bray-Dunes',\n",
       " 'Cabourg',\n",
       " 'Cancale et ses huîtres',\n",
       " 'Canet-en-Roussillon',\n",
       " 'Capbreton',\n",
       " 'Carcans-Plage',\n",
       " 'Châtelaillon-Plage',\n",
       " 'Ciboure',\n",
       " 'Deauville',\n",
       " 'Dieppe',\n",
       " 'Dinard',\n",
       " 'Étretat',\n",
       " 'Fort-Mahon-Plage',\n",
       " 'Fréjus',\n",
       " 'Granville',\n",
       " 'Gruissan',\n",
       " 'Hendaye',\n",
       " 'Juan-les-Pins',\n",
       " \"L'Île-Rousse\",\n",
       " \"L'Isle-Adam\",\n",
       " 'La Baule',\n",
       " 'La Grande-Motte',\n",
       " 'La pointe de Grave',\n",
       " \"La pointe du Bout et l'anse Mitan\",\n",
       " \"La presqu'île de Quiberon\",\n",
       " 'La Trinité-sur-Mer',\n",
       " 'Lacanau',\n",
       " \"Le Cap d'Agde\",\n",
       " 'Le Croisic',\n",
       " 'Le Diamant',\n",
       " 'Le golfe de Porto',\n",
       " 'Le Gosier',\n",
       " 'Le Grau-du-Roi',\n",
       " 'Le Touquet-Paris-Plage',\n",
       " 'Les falaises de Meschers-sur-Gironde',\n",
       " \"Les Sables-d'Olonne\",\n",
       " 'Les Saintes-Maries-de-la-Mer',\n",
       " 'Leucate',\n",
       " 'Mers-les-Bains',\n",
       " 'Mimizan-Plage',\n",
       " 'Narbonne-Plage',\n",
       " 'Palavas-les-Flots',\n",
       " 'Piriac-sur-Mer',\n",
       " 'Pornic',\n",
       " 'Port-Barcarès',\n",
       " 'Port-Vendres',\n",
       " 'Porto-Vecchio',\n",
       " 'Propriano',\n",
       " 'Royan',\n",
       " 'Saint-Cyprien',\n",
       " 'Saint-Florent',\n",
       " 'Saint-François',\n",
       " 'Saint-Gilles-Croix-de-Vie',\n",
       " 'Saint-Gilles-les-Bains',\n",
       " 'Saint-Jean-de-Luz',\n",
       " 'Saint-Jean-de-Monts',\n",
       " 'Saint-Leu',\n",
       " 'Saint-Malo',\n",
       " 'Saint-Quentin',\n",
       " 'Saint-Raphaël',\n",
       " 'Saint-Tropez',\n",
       " 'Saint-Vaast-la-Hougue',\n",
       " 'Saint-Valery-sur-Somme',\n",
       " 'Sainte-Anne',\n",
       " 'Soulac-sur-Mer',\n",
       " \"Vieux-Boucau Port d'Albret\",\n",
       " 'Wimereux']"
      ]
     },
     "execution_count": 12,
     "metadata": {},
     "output_type": "execute_result"
    }
   ],
   "source": [
    "list(df_ville_dept.city)"
   ]
  },
  {
   "cell_type": "code",
   "execution_count": 17,
   "metadata": {},
   "outputs": [],
   "source": [
    "api_access = requests.get(f'https://api.weatherbit.io/v2.0/forecast/daily?city=BARNEVILLE-CARTERET&country=FR&key={import_key}')"
   ]
  },
  {
   "cell_type": "code",
   "execution_count": 21,
   "metadata": {},
   "outputs": [
    {
     "name": "stdout",
     "output_type": "stream",
     "text": [
      "Skipping station AJACCIO\n",
      "Skipping station ANDERNOS-LES-BAINS\n",
      "Skipping station ANGLET\n",
      "Skipping station ARCACHON\n",
      "Skipping station ARGELÈS-SUR-MER\n",
      "Skipping station BANYULS-SUR-MER\n",
      "Skipping station BARNEVILLE-CARTERET\n",
      "Skipping station BIARRITZ\n",
      "Skipping station BIDART\n",
      "Skipping station BISCARROSSE-PLAGE\n",
      "Skipping station BRAY-DUNES\n",
      "Skipping station CABOURG\n",
      "Skipping station CANCALE ET SES HUÎTRES\n",
      "Skipping station CANET-EN-ROUSSILLON\n",
      "Skipping station CAPBRETON\n",
      "Skipping station CARCANS-PLAGE\n",
      "Skipping station CHÂTELAILLON-PLAGE\n",
      "Skipping station CIBOURE\n",
      "Skipping station DEAUVILLE\n",
      "Skipping station DIEPPE\n",
      "Skipping station DINARD\n",
      "Skipping station ÉTRETAT\n",
      "Skipping station FORT-MAHON-PLAGE\n",
      "Skipping station FRÉJUS\n",
      "Skipping station GRANVILLE\n",
      "Skipping station GRUISSAN\n",
      "Skipping station HENDAYE\n",
      "Skipping station JUAN-LES-PINS\n",
      "Skipping station L'ÎLE-ROUSSE\n",
      "Skipping station L'ISLE-ADAM\n",
      "Skipping station LA BAULE\n",
      "Skipping station LA GRANDE-MOTTE\n",
      "Skipping station LA POINTE DE GRAVE\n",
      "Skipping station LA POINTE DU BOUT ET L'ANSE MITAN\n",
      "Skipping station LA PRESQU'ÎLE DE QUIBERON\n",
      "Skipping station LA TRINITÉ-SUR-MER\n",
      "Skipping station LACANAU\n",
      "Skipping station LE CAP D'AGDE\n",
      "Skipping station LE CROISIC\n",
      "Skipping station LE DIAMANT\n",
      "Skipping station LE GOLFE DE PORTO\n",
      "Skipping station LE GOSIER\n",
      "Skipping station LE GRAU-DU-ROI\n",
      "Skipping station LE TOUQUET-PARIS-PLAGE\n",
      "Skipping station LES FALAISES DE MESCHERS-SUR-GIRONDE\n",
      "Skipping station LES SABLES-D'OLONNE\n",
      "Skipping station LES SAINTES-MARIES-DE-LA-MER\n",
      "Skipping station LEUCATE\n",
      "Skipping station MERS-LES-BAINS\n",
      "Skipping station MIMIZAN-PLAGE\n",
      "Skipping station NARBONNE-PLAGE\n",
      "Skipping station PALAVAS-LES-FLOTS\n",
      "Skipping station PIRIAC-SUR-MER\n",
      "Skipping station PORNIC\n",
      "Skipping station PORT-BARCARÈS\n",
      "Skipping station PORT-VENDRES\n",
      "Skipping station PORTO-VECCHIO\n",
      "Skipping station PROPRIANO\n",
      "Skipping station ROYAN\n",
      "Skipping station SAINT-CYPRIEN\n",
      "Skipping station SAINT-FLORENT\n",
      "Skipping station SAINT-FRANÇOIS\n",
      "Skipping station SAINT-GILLES-CROIX-DE-VIE\n",
      "Skipping station SAINT-GILLES-LES-BAINS\n",
      "Skipping station SAINT-JEAN-DE-LUZ\n",
      "Skipping station SAINT-JEAN-DE-MONTS\n",
      "Skipping station SAINT-LEU\n",
      "Skipping station SAINT-MALO\n",
      "Skipping station SAINT-QUENTIN\n",
      "Skipping station SAINT-RAPHAËL\n",
      "Skipping station SAINT-TROPEZ\n",
      "Skipping station SAINT-VAAST-LA-HOUGUE\n",
      "Skipping station SAINT-VALERY-SUR-SOMME\n",
      "Skipping station SAINTE-ANNE\n",
      "Skipping station SOULAC-SUR-MER\n",
      "Skipping station VIEUX-BOUCAU PORT D'ALBRET\n",
      "Skipping station WIMEREUX\n"
     ]
    }
   ],
   "source": [
    "# boucle for pour api request\n",
    "cols = ['sunset_ts',\n",
    "'wind_gust_spd',\n",
    "'wind_spd',\n",
    "'wind_dir',\n",
    "'clouds',\n",
    "'sunrise_ts',\n",
    "'pop',\n",
    "'uv',\n",
    "'precip',\n",
    "'low_temp',\n",
    "'min_temp',\n",
    "'max_temp',\n",
    "'high_temp',\n",
    "'temp',\n",
    "'datetime',\n",
    "'weather.description']\n",
    "\n",
    "\n",
    "df_list = []\n",
    "    \n",
    "for station in stations_balneaire :\n",
    "    try:\n",
    "        api_access = requests.get(f'https://api.weatherbit.io/v2.0/forecast/daily?city={station}&country=FR&key={import_key}')\n",
    "        longitude = api_access.json()['lon']\n",
    "        latitude = api_access.json()['lat']\n",
    "        weather_data = json_normalize(api_access.json()['data'])\n",
    "        weather_table = pd.DataFrame(weather_data)[cols]\n",
    "        weather_table['city'] = station\n",
    "        weather_table['long'] = longitude\n",
    "        weather_table['lat'] = latitude\n",
    "        df_list.append(weather_table)\n",
    "        print(station)\n",
    "    except:\n",
    "        print('Skipping station', station)"
   ]
  },
  {
   "cell_type": "code",
   "execution_count": 266,
   "metadata": {},
   "outputs": [
    {
     "ename": "ValueError",
     "evalue": "No objects to concatenate",
     "output_type": "error",
     "traceback": [
      "\u001b[0;31m---------------------------------------------------------------------------\u001b[0m",
      "\u001b[0;31mValueError\u001b[0m                                Traceback (most recent call last)",
      "\u001b[0;32m<ipython-input-266-f1cb505a0434>\u001b[0m in \u001b[0;36m<module>\u001b[0;34m\u001b[0m\n\u001b[0;32m----> 1\u001b[0;31m \u001b[0mfinal_weather_df\u001b[0m \u001b[0;34m=\u001b[0m \u001b[0mpd\u001b[0m\u001b[0;34m.\u001b[0m\u001b[0mconcat\u001b[0m\u001b[0;34m(\u001b[0m\u001b[0mdf_list\u001b[0m\u001b[0;34m)\u001b[0m\u001b[0;34m\u001b[0m\u001b[0;34m\u001b[0m\u001b[0m\n\u001b[0m\u001b[1;32m      2\u001b[0m \u001b[0mfinal_weather_df\u001b[0m\u001b[0;34m\u001b[0m\u001b[0;34m\u001b[0m\u001b[0m\n",
      "\u001b[0;32m/usr/local/Cellar/jupyterlab/2.1.1/libexec/lib/python3.8/site-packages/pandas/core/reshape/concat.py\u001b[0m in \u001b[0;36mconcat\u001b[0;34m(objs, axis, join, ignore_index, keys, levels, names, verify_integrity, sort, copy)\u001b[0m\n\u001b[1;32m    269\u001b[0m     \u001b[0mValueError\u001b[0m\u001b[0;34m:\u001b[0m \u001b[0mIndexes\u001b[0m \u001b[0mhave\u001b[0m \u001b[0moverlapping\u001b[0m \u001b[0mvalues\u001b[0m\u001b[0;34m:\u001b[0m \u001b[0;34m[\u001b[0m\u001b[0;34m'a'\u001b[0m\u001b[0;34m]\u001b[0m\u001b[0;34m\u001b[0m\u001b[0;34m\u001b[0m\u001b[0m\n\u001b[1;32m    270\u001b[0m     \"\"\"\n\u001b[0;32m--> 271\u001b[0;31m     op = _Concatenator(\n\u001b[0m\u001b[1;32m    272\u001b[0m         \u001b[0mobjs\u001b[0m\u001b[0;34m,\u001b[0m\u001b[0;34m\u001b[0m\u001b[0;34m\u001b[0m\u001b[0m\n\u001b[1;32m    273\u001b[0m         \u001b[0maxis\u001b[0m\u001b[0;34m=\u001b[0m\u001b[0maxis\u001b[0m\u001b[0;34m,\u001b[0m\u001b[0;34m\u001b[0m\u001b[0;34m\u001b[0m\u001b[0m\n",
      "\u001b[0;32m/usr/local/Cellar/jupyterlab/2.1.1/libexec/lib/python3.8/site-packages/pandas/core/reshape/concat.py\u001b[0m in \u001b[0;36m__init__\u001b[0;34m(self, objs, axis, join, keys, levels, names, ignore_index, verify_integrity, copy, sort)\u001b[0m\n\u001b[1;32m    327\u001b[0m \u001b[0;34m\u001b[0m\u001b[0m\n\u001b[1;32m    328\u001b[0m         \u001b[0;32mif\u001b[0m \u001b[0mlen\u001b[0m\u001b[0;34m(\u001b[0m\u001b[0mobjs\u001b[0m\u001b[0;34m)\u001b[0m \u001b[0;34m==\u001b[0m \u001b[0;36m0\u001b[0m\u001b[0;34m:\u001b[0m\u001b[0;34m\u001b[0m\u001b[0;34m\u001b[0m\u001b[0m\n\u001b[0;32m--> 329\u001b[0;31m             \u001b[0;32mraise\u001b[0m \u001b[0mValueError\u001b[0m\u001b[0;34m(\u001b[0m\u001b[0;34m\"No objects to concatenate\"\u001b[0m\u001b[0;34m)\u001b[0m\u001b[0;34m\u001b[0m\u001b[0;34m\u001b[0m\u001b[0m\n\u001b[0m\u001b[1;32m    330\u001b[0m \u001b[0;34m\u001b[0m\u001b[0m\n\u001b[1;32m    331\u001b[0m         \u001b[0;32mif\u001b[0m \u001b[0mkeys\u001b[0m \u001b[0;32mis\u001b[0m \u001b[0;32mNone\u001b[0m\u001b[0;34m:\u001b[0m\u001b[0;34m\u001b[0m\u001b[0;34m\u001b[0m\u001b[0m\n",
      "\u001b[0;31mValueError\u001b[0m: No objects to concatenate"
     ]
    }
   ],
   "source": [
    "final_weather_df = pd.concat(df_list)\n",
    "final_weather_df"
   ]
  },
  {
   "cell_type": "markdown",
   "metadata": {},
   "source": [
    "API AIR QUALITY"
   ]
  },
  {
   "cell_type": "code",
   "execution_count": 254,
   "metadata": {},
   "outputs": [
    {
     "name": "stdout",
     "output_type": "stream",
     "text": [
      "Skipping station Ajaccio\n",
      "Skipping station Andernos-les-Bains\n",
      "Skipping station Anglet\n",
      "Skipping station Arcachon\n",
      "Skipping station Argelès-sur-Mer\n",
      "Skipping station Banyuls-sur-Mer\n",
      "Skipping station Barneville-Carteret\n",
      "Skipping station Biarritz\n",
      "Skipping station Bidart\n",
      "Skipping station Biscarrosse-Plage\n",
      "Skipping station Bray-Dunes\n",
      "Skipping station Cabourg\n",
      "Skipping station Cancale et ses huîtres\n",
      "Skipping station Canet-en-Roussillon\n",
      "Skipping station Capbreton\n",
      "Skipping station Carcans-Plage\n",
      "Skipping station Châtelaillon-Plage\n",
      "Skipping station Ciboure\n",
      "Skipping station Deauville\n",
      "Skipping station Dieppe\n",
      "Skipping station Dinard\n",
      "Skipping station Étretat\n",
      "Skipping station Fort-Mahon-Plage\n",
      "Skipping station Fréjus\n",
      "Skipping station Granville\n",
      "Skipping station Gruissan\n",
      "Skipping station Hendaye\n",
      "Skipping station Juan-les-Pins\n",
      "Skipping station L'Île-Rousse\n",
      "Skipping station L'Isle-Adam\n",
      "Skipping station La Baule\n",
      "Skipping station La Grande-Motte\n",
      "Skipping station La pointe de Grave\n",
      "Skipping station La pointe du Bout et l'anse Mitan\n",
      "Skipping station La presqu'île de Quiberon\n",
      "Skipping station La Trinité-sur-Mer\n",
      "Skipping station Lacanau\n",
      "Skipping station Le Cap d'Agde\n",
      "Skipping station Le Croisic\n",
      "Skipping station Le Diamant\n",
      "Skipping station Le golfe de Porto\n",
      "Skipping station Le Gosier\n",
      "Skipping station Le Grau-du-Roi\n",
      "Skipping station Le Touquet-Paris-Plage\n",
      "Skipping station Les falaises de Meschers-sur-Gironde\n",
      "Skipping station Les Sables-d'Olonne\n",
      "Skipping station Les Saintes-Maries-de-la-Mer\n",
      "Skipping station Leucate\n",
      "Skipping station Mers-les-Bains\n",
      "Skipping station Mimizan-Plage\n",
      "Skipping station Narbonne-Plage\n",
      "Skipping station Palavas-les-Flots\n",
      "Skipping station Piriac-sur-Mer\n",
      "Skipping station Pornic\n",
      "Skipping station Port-Barcarès\n",
      "Skipping station Port-Vendres\n",
      "Skipping station Porto-Vecchio\n",
      "Skipping station Propriano\n",
      "Skipping station Royan\n",
      "Skipping station Saint-Cyprien\n",
      "Skipping station Saint-Florent\n",
      "Skipping station Saint-François\n",
      "Skipping station Saint-Gilles-Croix-de-Vie\n",
      "Skipping station Saint-Gilles-les-Bains\n",
      "Skipping station Saint-Jean-de-Luz\n",
      "Skipping station Saint-Jean-de-Monts\n",
      "Skipping station Saint-Leu\n",
      "Skipping station Saint-Malo\n",
      "Skipping station Saint-Quentin\n",
      "Skipping station Saint-Raphaël\n",
      "Skipping station Saint-Tropez\n",
      "Skipping station Saint-Vaast-la-Hougue\n",
      "Skipping station Saint-Valery-sur-Somme\n",
      "Skipping station Sainte-Anne\n",
      "Skipping station Soulac-sur-Mer\n",
      "Skipping station Vieux-Boucau Port d'Albret\n",
      "Skipping station Wimereux\n"
     ]
    }
   ],
   "source": [
    "# boucle for pour api request air quality\n",
    "cols_air_quality = ['aqi', 'datetime']\n",
    "\n",
    "df_air_quality_list = []\n",
    "    \n",
    "for station in stations_balneaire :\n",
    "    try:\n",
    "        api_access_air_quality = requests.get(f'https://api.weatherbit.io/v2.0/history/airquality?city={station}&country=FR&key={key}')\n",
    "        city = api_access_air_quality.json()['city_name']\n",
    "        air_quality_data = json_normalize(api_access_air_quality.json()['data'])\n",
    "        air_quality_table = pd.DataFrame(air_quality_data)[cols]\n",
    "        air_quality_table['city'] = station\n",
    "        df_air_quality_list.append(air_quality_table)\n",
    "        #print(station)\n",
    "    except:\n",
    "        print('Skipping station', station)"
   ]
  },
  {
   "cell_type": "code",
   "execution_count": 247,
   "metadata": {},
   "outputs": [
    {
     "data": {
      "text/html": [
       "<div>\n",
       "<style scoped>\n",
       "    .dataframe tbody tr th:only-of-type {\n",
       "        vertical-align: middle;\n",
       "    }\n",
       "\n",
       "    .dataframe tbody tr th {\n",
       "        vertical-align: top;\n",
       "    }\n",
       "\n",
       "    .dataframe thead th {\n",
       "        text-align: right;\n",
       "    }\n",
       "</style>\n",
       "<table border=\"1\" class=\"dataframe\">\n",
       "  <thead>\n",
       "    <tr style=\"text-align: right;\">\n",
       "      <th></th>\n",
       "      <th>aqi</th>\n",
       "      <th>datetime</th>\n",
       "      <th>city</th>\n",
       "    </tr>\n",
       "  </thead>\n",
       "  <tbody>\n",
       "    <tr>\n",
       "      <th>0</th>\n",
       "      <td>50.6</td>\n",
       "      <td>2020-08-01:13</td>\n",
       "      <td>Ajaccio</td>\n",
       "    </tr>\n",
       "    <tr>\n",
       "      <th>1</th>\n",
       "      <td>50.2</td>\n",
       "      <td>2020-08-01:12</td>\n",
       "      <td>Ajaccio</td>\n",
       "    </tr>\n",
       "    <tr>\n",
       "      <th>2</th>\n",
       "      <td>49.2</td>\n",
       "      <td>2020-08-01:11</td>\n",
       "      <td>Ajaccio</td>\n",
       "    </tr>\n",
       "    <tr>\n",
       "      <th>3</th>\n",
       "      <td>47.8</td>\n",
       "      <td>2020-08-01:10</td>\n",
       "      <td>Ajaccio</td>\n",
       "    </tr>\n",
       "    <tr>\n",
       "      <th>4</th>\n",
       "      <td>42.0</td>\n",
       "      <td>2020-08-01:09</td>\n",
       "      <td>Ajaccio</td>\n",
       "    </tr>\n",
       "    <tr>\n",
       "      <th>...</th>\n",
       "      <td>...</td>\n",
       "      <td>...</td>\n",
       "      <td>...</td>\n",
       "    </tr>\n",
       "    <tr>\n",
       "      <th>67</th>\n",
       "      <td>50.0</td>\n",
       "      <td>2020-07-29:18</td>\n",
       "      <td>Saint-Gilles-Croix-de-Vie</td>\n",
       "    </tr>\n",
       "    <tr>\n",
       "      <th>68</th>\n",
       "      <td>52.0</td>\n",
       "      <td>2020-07-29:17</td>\n",
       "      <td>Saint-Gilles-Croix-de-Vie</td>\n",
       "    </tr>\n",
       "    <tr>\n",
       "      <th>69</th>\n",
       "      <td>53.0</td>\n",
       "      <td>2020-07-29:16</td>\n",
       "      <td>Saint-Gilles-Croix-de-Vie</td>\n",
       "    </tr>\n",
       "    <tr>\n",
       "      <th>70</th>\n",
       "      <td>52.0</td>\n",
       "      <td>2020-07-29:15</td>\n",
       "      <td>Saint-Gilles-Croix-de-Vie</td>\n",
       "    </tr>\n",
       "    <tr>\n",
       "      <th>71</th>\n",
       "      <td>51.0</td>\n",
       "      <td>2020-07-29:14</td>\n",
       "      <td>Saint-Gilles-Croix-de-Vie</td>\n",
       "    </tr>\n",
       "  </tbody>\n",
       "</table>\n",
       "<p>3456 rows × 3 columns</p>\n",
       "</div>"
      ],
      "text/plain": [
       "     aqi       datetime                       city\n",
       "0   50.6  2020-08-01:13                    Ajaccio\n",
       "1   50.2  2020-08-01:12                    Ajaccio\n",
       "2   49.2  2020-08-01:11                    Ajaccio\n",
       "3   47.8  2020-08-01:10                    Ajaccio\n",
       "4   42.0  2020-08-01:09                    Ajaccio\n",
       "..   ...            ...                        ...\n",
       "67  50.0  2020-07-29:18  Saint-Gilles-Croix-de-Vie\n",
       "68  52.0  2020-07-29:17  Saint-Gilles-Croix-de-Vie\n",
       "69  53.0  2020-07-29:16  Saint-Gilles-Croix-de-Vie\n",
       "70  52.0  2020-07-29:15  Saint-Gilles-Croix-de-Vie\n",
       "71  51.0  2020-07-29:14  Saint-Gilles-Croix-de-Vie\n",
       "\n",
       "[3456 rows x 3 columns]"
      ]
     },
     "execution_count": 247,
     "metadata": {},
     "output_type": "execute_result"
    }
   ],
   "source": [
    "final_air_quality_df = pd.concat(df_air_quality_list)\n",
    "final_air_quality_df"
   ]
  },
  {
   "cell_type": "code",
   "execution_count": 248,
   "metadata": {},
   "outputs": [
    {
     "data": {
      "text/html": [
       "<div>\n",
       "<style scoped>\n",
       "    .dataframe tbody tr th:only-of-type {\n",
       "        vertical-align: middle;\n",
       "    }\n",
       "\n",
       "    .dataframe tbody tr th {\n",
       "        vertical-align: top;\n",
       "    }\n",
       "\n",
       "    .dataframe thead th {\n",
       "        text-align: right;\n",
       "    }\n",
       "</style>\n",
       "<table border=\"1\" class=\"dataframe\">\n",
       "  <thead>\n",
       "    <tr style=\"text-align: right;\">\n",
       "      <th></th>\n",
       "      <th>0</th>\n",
       "      <th>1</th>\n",
       "    </tr>\n",
       "  </thead>\n",
       "  <tbody>\n",
       "    <tr>\n",
       "      <th>0</th>\n",
       "      <td>2020-08-01</td>\n",
       "      <td>13</td>\n",
       "    </tr>\n",
       "    <tr>\n",
       "      <th>1</th>\n",
       "      <td>2020-08-01</td>\n",
       "      <td>12</td>\n",
       "    </tr>\n",
       "    <tr>\n",
       "      <th>2</th>\n",
       "      <td>2020-08-01</td>\n",
       "      <td>11</td>\n",
       "    </tr>\n",
       "    <tr>\n",
       "      <th>3</th>\n",
       "      <td>2020-08-01</td>\n",
       "      <td>10</td>\n",
       "    </tr>\n",
       "    <tr>\n",
       "      <th>4</th>\n",
       "      <td>2020-08-01</td>\n",
       "      <td>09</td>\n",
       "    </tr>\n",
       "    <tr>\n",
       "      <th>...</th>\n",
       "      <td>...</td>\n",
       "      <td>...</td>\n",
       "    </tr>\n",
       "    <tr>\n",
       "      <th>67</th>\n",
       "      <td>2020-07-29</td>\n",
       "      <td>18</td>\n",
       "    </tr>\n",
       "    <tr>\n",
       "      <th>68</th>\n",
       "      <td>2020-07-29</td>\n",
       "      <td>17</td>\n",
       "    </tr>\n",
       "    <tr>\n",
       "      <th>69</th>\n",
       "      <td>2020-07-29</td>\n",
       "      <td>16</td>\n",
       "    </tr>\n",
       "    <tr>\n",
       "      <th>70</th>\n",
       "      <td>2020-07-29</td>\n",
       "      <td>15</td>\n",
       "    </tr>\n",
       "    <tr>\n",
       "      <th>71</th>\n",
       "      <td>2020-07-29</td>\n",
       "      <td>14</td>\n",
       "    </tr>\n",
       "  </tbody>\n",
       "</table>\n",
       "<p>3456 rows × 2 columns</p>\n",
       "</div>"
      ],
      "text/plain": [
       "             0   1\n",
       "0   2020-08-01  13\n",
       "1   2020-08-01  12\n",
       "2   2020-08-01  11\n",
       "3   2020-08-01  10\n",
       "4   2020-08-01  09\n",
       "..         ...  ..\n",
       "67  2020-07-29  18\n",
       "68  2020-07-29  17\n",
       "69  2020-07-29  16\n",
       "70  2020-07-29  15\n",
       "71  2020-07-29  14\n",
       "\n",
       "[3456 rows x 2 columns]"
      ]
     },
     "execution_count": 248,
     "metadata": {},
     "output_type": "execute_result"
    }
   ],
   "source": [
    "final_air_quality_df['datetime'].str.extract(r'(\\d\\d\\d\\d-\\d\\d-\\d\\d):(\\d\\d)')"
   ]
  },
  {
   "cell_type": "code",
   "execution_count": null,
   "metadata": {},
   "outputs": [],
   "source": []
  },
  {
   "cell_type": "code",
   "execution_count": 249,
   "metadata": {},
   "outputs": [],
   "source": [
    "# Split time date & Hours \n",
    "final_air_quality_df = pd.concat([final_air_quality_df, final_air_quality_df['datetime'].str.extract(r'(\\d\\d\\d\\d-\\d\\d-\\d\\d):(\\d\\d)')],axis=1)\n"
   ]
  },
  {
   "cell_type": "code",
   "execution_count": 253,
   "metadata": {},
   "outputs": [
    {
     "ename": "KeyError",
     "evalue": "'Column not found: aqi'",
     "output_type": "error",
     "traceback": [
      "\u001b[0;31m---------------------------------------------------------------------------\u001b[0m",
      "\u001b[0;31mKeyError\u001b[0m                                  Traceback (most recent call last)",
      "\u001b[0;32m<ipython-input-253-100c2575fe0b>\u001b[0m in \u001b[0;36m<module>\u001b[0;34m\u001b[0m\n\u001b[1;32m      1\u001b[0m \u001b[0;31m# Average par jour\u001b[0m\u001b[0;34m\u001b[0m\u001b[0;34m\u001b[0m\u001b[0;34m\u001b[0m\u001b[0m\n\u001b[0;32m----> 2\u001b[0;31m \u001b[0mfinal_air_quality_df\u001b[0m \u001b[0;34m=\u001b[0m \u001b[0mfinal_air_quality_df\u001b[0m\u001b[0;34m.\u001b[0m\u001b[0mgroupby\u001b[0m\u001b[0;34m(\u001b[0m\u001b[0;34m[\u001b[0m\u001b[0;36m0\u001b[0m\u001b[0;34m,\u001b[0m\u001b[0;34m'city'\u001b[0m\u001b[0;34m]\u001b[0m\u001b[0;34m)\u001b[0m\u001b[0;34m[\u001b[0m\u001b[0;34m'aqi'\u001b[0m\u001b[0;34m]\u001b[0m\u001b[0;34m.\u001b[0m\u001b[0mmean\u001b[0m\u001b[0;34m(\u001b[0m\u001b[0;34m)\u001b[0m\u001b[0;34m\u001b[0m\u001b[0;34m\u001b[0m\u001b[0m\n\u001b[0m",
      "\u001b[0;32m/usr/local/Cellar/jupyterlab/2.1.1/libexec/lib/python3.8/site-packages/pandas/core/base.py\u001b[0m in \u001b[0;36m__getitem__\u001b[0;34m(self, key)\u001b[0m\n\u001b[1;32m    228\u001b[0m         \u001b[0;32melse\u001b[0m\u001b[0;34m:\u001b[0m\u001b[0;34m\u001b[0m\u001b[0;34m\u001b[0m\u001b[0m\n\u001b[1;32m    229\u001b[0m             \u001b[0;32mif\u001b[0m \u001b[0mkey\u001b[0m \u001b[0;32mnot\u001b[0m \u001b[0;32min\u001b[0m \u001b[0mself\u001b[0m\u001b[0;34m.\u001b[0m\u001b[0mobj\u001b[0m\u001b[0;34m:\u001b[0m\u001b[0;34m\u001b[0m\u001b[0;34m\u001b[0m\u001b[0m\n\u001b[0;32m--> 230\u001b[0;31m                 \u001b[0;32mraise\u001b[0m \u001b[0mKeyError\u001b[0m\u001b[0;34m(\u001b[0m\u001b[0;34mf\"Column not found: {key}\"\u001b[0m\u001b[0;34m)\u001b[0m\u001b[0;34m\u001b[0m\u001b[0;34m\u001b[0m\u001b[0m\n\u001b[0m\u001b[1;32m    231\u001b[0m             \u001b[0;32mreturn\u001b[0m \u001b[0mself\u001b[0m\u001b[0;34m.\u001b[0m\u001b[0m_gotitem\u001b[0m\u001b[0;34m(\u001b[0m\u001b[0mkey\u001b[0m\u001b[0;34m,\u001b[0m \u001b[0mndim\u001b[0m\u001b[0;34m=\u001b[0m\u001b[0;36m1\u001b[0m\u001b[0;34m)\u001b[0m\u001b[0;34m\u001b[0m\u001b[0;34m\u001b[0m\u001b[0m\n\u001b[1;32m    232\u001b[0m \u001b[0;34m\u001b[0m\u001b[0m\n",
      "\u001b[0;31mKeyError\u001b[0m: 'Column not found: aqi'"
     ]
    }
   ],
   "source": [
    "# Average par jour\n",
    "final_air_quality_df = final_air_quality_df.groupby([0,'city'])['aqi'].mean()"
   ]
  },
  {
   "cell_type": "code",
   "execution_count": 251,
   "metadata": {},
   "outputs": [
    {
     "ename": "ValueError",
     "evalue": "No axis named 1 for object type <class 'pandas.core.series.Series'>",
     "output_type": "error",
     "traceback": [
      "\u001b[0;31m---------------------------------------------------------------------------\u001b[0m",
      "\u001b[0;31mValueError\u001b[0m                                Traceback (most recent call last)",
      "\u001b[0;32m<ipython-input-251-e290b21ea39d>\u001b[0m in \u001b[0;36m<module>\u001b[0;34m\u001b[0m\n\u001b[1;32m      1\u001b[0m \u001b[0;31m# Traitement noms des colonnes\u001b[0m\u001b[0;34m\u001b[0m\u001b[0;34m\u001b[0m\u001b[0;34m\u001b[0m\u001b[0m\n\u001b[0;32m----> 2\u001b[0;31m \u001b[0mfinal_air_quality_df\u001b[0m \u001b[0;34m=\u001b[0m \u001b[0;34m(\u001b[0m\u001b[0mfinal_air_quality_df\u001b[0m\u001b[0;34m.\u001b[0m\u001b[0mdrop\u001b[0m\u001b[0;34m(\u001b[0m\u001b[0;34m'datetime'\u001b[0m\u001b[0;34m,\u001b[0m\u001b[0maxis\u001b[0m\u001b[0;34m=\u001b[0m\u001b[0;36m1\u001b[0m\u001b[0;34m)\u001b[0m\u001b[0;34m)\u001b[0m\u001b[0;34m\u001b[0m\u001b[0;34m\u001b[0m\u001b[0m\n\u001b[0m\u001b[1;32m      3\u001b[0m \u001b[0mfinal_air_quality_df\u001b[0m \u001b[0;34m=\u001b[0m \u001b[0;34m(\u001b[0m\u001b[0mfinal_air_quality_df\u001b[0m\u001b[0;34m.\u001b[0m\u001b[0mdrop\u001b[0m\u001b[0;34m(\u001b[0m\u001b[0;36m1\u001b[0m\u001b[0;34m,\u001b[0m\u001b[0maxis\u001b[0m\u001b[0;34m=\u001b[0m\u001b[0;36m1\u001b[0m\u001b[0;34m)\u001b[0m\u001b[0;34m)\u001b[0m\u001b[0;34m\u001b[0m\u001b[0;34m\u001b[0m\u001b[0m\n",
      "\u001b[0;32m/usr/local/Cellar/jupyterlab/2.1.1/libexec/lib/python3.8/site-packages/pandas/core/series.py\u001b[0m in \u001b[0;36mdrop\u001b[0;34m(self, labels, axis, index, columns, level, inplace, errors)\u001b[0m\n\u001b[1;32m   4130\u001b[0m         \u001b[0mdtype\u001b[0m\u001b[0;34m:\u001b[0m \u001b[0mfloat64\u001b[0m\u001b[0;34m\u001b[0m\u001b[0;34m\u001b[0m\u001b[0m\n\u001b[1;32m   4131\u001b[0m         \"\"\"\n\u001b[0;32m-> 4132\u001b[0;31m         return super().drop(\n\u001b[0m\u001b[1;32m   4133\u001b[0m             \u001b[0mlabels\u001b[0m\u001b[0;34m=\u001b[0m\u001b[0mlabels\u001b[0m\u001b[0;34m,\u001b[0m\u001b[0;34m\u001b[0m\u001b[0;34m\u001b[0m\u001b[0m\n\u001b[1;32m   4134\u001b[0m             \u001b[0maxis\u001b[0m\u001b[0;34m=\u001b[0m\u001b[0maxis\u001b[0m\u001b[0;34m,\u001b[0m\u001b[0;34m\u001b[0m\u001b[0;34m\u001b[0m\u001b[0m\n",
      "\u001b[0;32m/usr/local/Cellar/jupyterlab/2.1.1/libexec/lib/python3.8/site-packages/pandas/core/generic.py\u001b[0m in \u001b[0;36mdrop\u001b[0;34m(self, labels, axis, index, columns, level, inplace, errors)\u001b[0m\n\u001b[1;32m   3921\u001b[0m             \u001b[0;32mif\u001b[0m \u001b[0mindex\u001b[0m \u001b[0;32mis\u001b[0m \u001b[0;32mnot\u001b[0m \u001b[0;32mNone\u001b[0m \u001b[0;32mor\u001b[0m \u001b[0mcolumns\u001b[0m \u001b[0;32mis\u001b[0m \u001b[0;32mnot\u001b[0m \u001b[0;32mNone\u001b[0m\u001b[0;34m:\u001b[0m\u001b[0;34m\u001b[0m\u001b[0;34m\u001b[0m\u001b[0m\n\u001b[1;32m   3922\u001b[0m                 \u001b[0;32mraise\u001b[0m \u001b[0mValueError\u001b[0m\u001b[0;34m(\u001b[0m\u001b[0;34m\"Cannot specify both 'labels' and 'index'/'columns'\"\u001b[0m\u001b[0;34m)\u001b[0m\u001b[0;34m\u001b[0m\u001b[0;34m\u001b[0m\u001b[0m\n\u001b[0;32m-> 3923\u001b[0;31m             \u001b[0maxis_name\u001b[0m \u001b[0;34m=\u001b[0m \u001b[0mself\u001b[0m\u001b[0;34m.\u001b[0m\u001b[0m_get_axis_name\u001b[0m\u001b[0;34m(\u001b[0m\u001b[0maxis\u001b[0m\u001b[0;34m)\u001b[0m\u001b[0;34m\u001b[0m\u001b[0;34m\u001b[0m\u001b[0m\n\u001b[0m\u001b[1;32m   3924\u001b[0m             \u001b[0maxes\u001b[0m \u001b[0;34m=\u001b[0m \u001b[0;34m{\u001b[0m\u001b[0maxis_name\u001b[0m\u001b[0;34m:\u001b[0m \u001b[0mlabels\u001b[0m\u001b[0;34m}\u001b[0m\u001b[0;34m\u001b[0m\u001b[0;34m\u001b[0m\u001b[0m\n\u001b[1;32m   3925\u001b[0m         \u001b[0;32melif\u001b[0m \u001b[0mindex\u001b[0m \u001b[0;32mis\u001b[0m \u001b[0;32mnot\u001b[0m \u001b[0;32mNone\u001b[0m \u001b[0;32mor\u001b[0m \u001b[0mcolumns\u001b[0m \u001b[0;32mis\u001b[0m \u001b[0;32mnot\u001b[0m \u001b[0;32mNone\u001b[0m\u001b[0;34m:\u001b[0m\u001b[0;34m\u001b[0m\u001b[0;34m\u001b[0m\u001b[0m\n",
      "\u001b[0;32m/usr/local/Cellar/jupyterlab/2.1.1/libexec/lib/python3.8/site-packages/pandas/core/generic.py\u001b[0m in \u001b[0;36m_get_axis_name\u001b[0;34m(cls, axis)\u001b[0m\n\u001b[1;32m    418\u001b[0m             \u001b[0;32mexcept\u001b[0m \u001b[0mKeyError\u001b[0m\u001b[0;34m:\u001b[0m\u001b[0;34m\u001b[0m\u001b[0;34m\u001b[0m\u001b[0m\n\u001b[1;32m    419\u001b[0m                 \u001b[0;32mpass\u001b[0m\u001b[0;34m\u001b[0m\u001b[0;34m\u001b[0m\u001b[0m\n\u001b[0;32m--> 420\u001b[0;31m         \u001b[0;32mraise\u001b[0m \u001b[0mValueError\u001b[0m\u001b[0;34m(\u001b[0m\u001b[0;34mf\"No axis named {axis} for object type {cls}\"\u001b[0m\u001b[0;34m)\u001b[0m\u001b[0;34m\u001b[0m\u001b[0;34m\u001b[0m\u001b[0m\n\u001b[0m\u001b[1;32m    421\u001b[0m \u001b[0;34m\u001b[0m\u001b[0m\n\u001b[1;32m    422\u001b[0m     \u001b[0;32mdef\u001b[0m \u001b[0m_get_axis\u001b[0m\u001b[0;34m(\u001b[0m\u001b[0mself\u001b[0m\u001b[0;34m,\u001b[0m \u001b[0maxis\u001b[0m\u001b[0;34m)\u001b[0m\u001b[0;34m:\u001b[0m\u001b[0;34m\u001b[0m\u001b[0;34m\u001b[0m\u001b[0m\n",
      "\u001b[0;31mValueError\u001b[0m: No axis named 1 for object type <class 'pandas.core.series.Series'>"
     ]
    }
   ],
   "source": [
    "# Traitement noms des colonnes\n",
    "final_air_quality_df = (final_air_quality_df.drop('datetime',axis=1))\n",
    "final_air_quality_df = (final_air_quality_df.drop(1,axis=1))"
   ]
  },
  {
   "cell_type": "code",
   "execution_count": 252,
   "metadata": {},
   "outputs": [
    {
     "data": {
      "text/plain": [
       "0           city                     \n",
       "2020-07-29  Ajaccio                      42.100000\n",
       "            Andernos-les-Bains           51.100000\n",
       "            Anglet                       43.000000\n",
       "            Arcachon                     51.100000\n",
       "            Argelès-sur-Mer              50.000000\n",
       "                                           ...    \n",
       "2020-08-01  Saint-Cyprien                65.585714\n",
       "            Saint-Florent                55.100000\n",
       "            Saint-François               70.100000\n",
       "            Saint-Gilles-Croix-de-Vie    26.200000\n",
       "            Étretat                      20.642857\n",
       "Name: aqi, Length: 192, dtype: float64"
      ]
     },
     "execution_count": 252,
     "metadata": {},
     "output_type": "execute_result"
    }
   ],
   "source": [
    "final_air_quality_df = final_air_quality_df.rename({0: 'datetime'}, axis=1)\n",
    "final_air_quality_df"
   ]
  },
  {
   "cell_type": "code",
   "execution_count": 228,
   "metadata": {},
   "outputs": [
    {
     "ename": "ValueError",
     "evalue": "Only can inner (intersect) or outer (union) join the other axis",
     "output_type": "error",
     "traceback": [
      "\u001b[0;31m---------------------------------------------------------------------------\u001b[0m",
      "\u001b[0;31mValueError\u001b[0m                                Traceback (most recent call last)",
      "\u001b[0;32m<ipython-input-228-5d3c45f27d3c>\u001b[0m in \u001b[0;36m<module>\u001b[0;34m\u001b[0m\n\u001b[0;32m----> 1\u001b[0;31m \u001b[0mstations_baleneaires_database\u001b[0m \u001b[0;34m=\u001b[0m \u001b[0mpd\u001b[0m\u001b[0;34m.\u001b[0m\u001b[0mconcat\u001b[0m\u001b[0;34m(\u001b[0m\u001b[0;34m[\u001b[0m\u001b[0mfinal_air_quality_df\u001b[0m\u001b[0;34m]\u001b[0m\u001b[0;34m,\u001b[0m \u001b[0;34m[\u001b[0m\u001b[0mfinal_weather_df\u001b[0m\u001b[0;34m]\u001b[0m\u001b[0;34m,\u001b[0m \u001b[0;34m[\u001b[0m\u001b[0mdf_ville_dept\u001b[0m\u001b[0;34m]\u001b[0m\u001b[0;34m)\u001b[0m\u001b[0;34m.\u001b[0m\u001b[0mgroupby\u001b[0m\u001b[0;34m(\u001b[0m\u001b[0;34m[\u001b[0m\u001b[0;34m'city'\u001b[0m\u001b[0;34m]\u001b[0m\u001b[0;34m,\u001b[0m \u001b[0maxis\u001b[0m\u001b[0;34m=\u001b[0m\u001b[0;36m1\u001b[0m\u001b[0;34m)\u001b[0m\u001b[0;34m\u001b[0m\u001b[0;34m\u001b[0m\u001b[0m\n\u001b[0m\u001b[1;32m      2\u001b[0m \u001b[0;31m#final_air_quality_df.groupby([0,'city'])['aqi'].mean()\u001b[0m\u001b[0;34m\u001b[0m\u001b[0;34m\u001b[0m\u001b[0;34m\u001b[0m\u001b[0m\n",
      "\u001b[0;32m/usr/local/Cellar/jupyterlab/2.1.1/libexec/lib/python3.8/site-packages/pandas/core/reshape/concat.py\u001b[0m in \u001b[0;36mconcat\u001b[0;34m(objs, axis, join, ignore_index, keys, levels, names, verify_integrity, sort, copy)\u001b[0m\n\u001b[1;32m    269\u001b[0m     \u001b[0mValueError\u001b[0m\u001b[0;34m:\u001b[0m \u001b[0mIndexes\u001b[0m \u001b[0mhave\u001b[0m \u001b[0moverlapping\u001b[0m \u001b[0mvalues\u001b[0m\u001b[0;34m:\u001b[0m \u001b[0;34m[\u001b[0m\u001b[0;34m'a'\u001b[0m\u001b[0;34m]\u001b[0m\u001b[0;34m\u001b[0m\u001b[0;34m\u001b[0m\u001b[0m\n\u001b[1;32m    270\u001b[0m     \"\"\"\n\u001b[0;32m--> 271\u001b[0;31m     op = _Concatenator(\n\u001b[0m\u001b[1;32m    272\u001b[0m         \u001b[0mobjs\u001b[0m\u001b[0;34m,\u001b[0m\u001b[0;34m\u001b[0m\u001b[0;34m\u001b[0m\u001b[0m\n\u001b[1;32m    273\u001b[0m         \u001b[0maxis\u001b[0m\u001b[0;34m=\u001b[0m\u001b[0maxis\u001b[0m\u001b[0;34m,\u001b[0m\u001b[0;34m\u001b[0m\u001b[0;34m\u001b[0m\u001b[0m\n",
      "\u001b[0;32m/usr/local/Cellar/jupyterlab/2.1.1/libexec/lib/python3.8/site-packages/pandas/core/reshape/concat.py\u001b[0m in \u001b[0;36m__init__\u001b[0;34m(self, objs, axis, join, keys, levels, names, ignore_index, verify_integrity, copy, sort)\u001b[0m\n\u001b[1;32m    315\u001b[0m             \u001b[0mself\u001b[0m\u001b[0;34m.\u001b[0m\u001b[0mintersect\u001b[0m \u001b[0;34m=\u001b[0m \u001b[0;32mTrue\u001b[0m\u001b[0;34m\u001b[0m\u001b[0;34m\u001b[0m\u001b[0m\n\u001b[1;32m    316\u001b[0m         \u001b[0;32melse\u001b[0m\u001b[0;34m:\u001b[0m  \u001b[0;31m# pragma: no cover\u001b[0m\u001b[0;34m\u001b[0m\u001b[0;34m\u001b[0m\u001b[0m\n\u001b[0;32m--> 317\u001b[0;31m             raise ValueError(\n\u001b[0m\u001b[1;32m    318\u001b[0m                 \u001b[0;34m\"Only can inner (intersect) or outer (union) join the other axis\"\u001b[0m\u001b[0;34m\u001b[0m\u001b[0;34m\u001b[0m\u001b[0m\n\u001b[1;32m    319\u001b[0m             )\n",
      "\u001b[0;31mValueError\u001b[0m: Only can inner (intersect) or outer (union) join the other axis"
     ]
    }
   ],
   "source": [
    "stations_baleneaires_database = pd.concat([final_air_quality_df], [final_weather_df], [df_ville_dept]).groupby(['city'], axis=1)\n",
    "#final_air_quality_df.groupby([0,'city'])['aqi'].mean()"
   ]
  },
  {
   "cell_type": "code",
   "execution_count": null,
   "metadata": {},
   "outputs": [],
   "source": []
  },
  {
   "cell_type": "code",
   "execution_count": null,
   "metadata": {},
   "outputs": [],
   "source": []
  },
  {
   "cell_type": "code",
   "execution_count": null,
   "metadata": {},
   "outputs": [],
   "source": [
    "# average aqi sur la journée\n",
    "# merge avec les clés datetime et city \n",
    "\n",
    "# Enregister en csv\n",
    "# dataframe_name.to_csv(path=\"infos du path\", index=false)\n",
    "# to_sql\n",
    "# to_excel"
   ]
  }
 ],
 "metadata": {
  "kernelspec": {
   "display_name": "Python 3",
   "language": "python",
   "name": "python3"
  },
  "language_info": {
   "codemirror_mode": {
    "name": "ipython",
    "version": 3
   },
   "file_extension": ".py",
   "mimetype": "text/x-python",
   "name": "python",
   "nbconvert_exporter": "python",
   "pygments_lexer": "ipython3",
   "version": "3.8.2"
  }
 },
 "nbformat": 4,
 "nbformat_minor": 4
}
